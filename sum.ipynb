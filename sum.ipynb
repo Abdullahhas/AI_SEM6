{
 "cells": [
  {
   "cell_type": "code",
   "execution_count": 1,
   "id": "11ec1c81",
   "metadata": {},
   "outputs": [],
   "source": [
    "x1 = [2,3,5,6]\n",
    "x2 = [6,9,2,5]\n",
    "l = []"
   ]
  },
  {
   "cell_type": "code",
   "execution_count": 3,
   "id": "380039c9",
   "metadata": {},
   "outputs": [],
   "source": [
    "for i ,j in zip(x1 , x2):\n",
    "    l.append(i+j)"
   ]
  },
  {
   "cell_type": "code",
   "execution_count": 4,
   "id": "31ef6b96",
   "metadata": {},
   "outputs": [
    {
     "name": "stdout",
     "output_type": "stream",
     "text": [
      "8\n",
      "12\n",
      "7\n",
      "11\n"
     ]
    }
   ],
   "source": [
    "for i in l:\n",
    "    print(i)"
   ]
  },
  {
   "cell_type": "code",
   "execution_count": 10,
   "id": "cb643a0a",
   "metadata": {},
   "outputs": [],
   "source": [
    "import numpy as np\n",
    "import time\n"
   ]
  },
  {
   "cell_type": "code",
   "execution_count": 6,
   "id": "ef5bd093",
   "metadata": {},
   "outputs": [],
   "source": [
    "x1 = np.array([2,3,5,6])\n",
    "x2 = np.array([6,9,2,5])\n",
    "x3 = x1 + x2"
   ]
  },
  {
   "cell_type": "code",
   "execution_count": 8,
   "id": "bde33c22",
   "metadata": {},
   "outputs": [
    {
     "name": "stdout",
     "output_type": "stream",
     "text": [
      "[ 8 12  7 11]\n"
     ]
    }
   ],
   "source": [
    "print(x3)"
   ]
  },
  {
   "cell_type": "code",
   "execution_count": 9,
   "id": "82f88779",
   "metadata": {},
   "outputs": [
    {
     "data": {
      "text/plain": [
       "np.int64(79)"
      ]
     },
     "execution_count": 9,
     "metadata": {},
     "output_type": "execute_result"
    }
   ],
   "source": [
    "np.dot(x1,x2)"
   ]
  },
  {
   "cell_type": "code",
   "execution_count": 16,
   "id": "c5a15702",
   "metadata": {},
   "outputs": [
    {
     "data": {
      "text/plain": [
       "array([0.43789611, 0.27192124, 0.82784674, ..., 0.45189756, 0.40962844,\n",
       "       0.79596572], shape=(1000000,))"
      ]
     },
     "execution_count": 16,
     "metadata": {},
     "output_type": "execute_result"
    }
   ],
   "source": [
    "a = np.random.rand(1000000)\n",
    "b = np.random.rand(1000000)\n",
    "a"
   ]
  },
  {
   "cell_type": "code",
   "execution_count": 15,
   "id": "da9810e7",
   "metadata": {},
   "outputs": [
    {
     "name": "stdout",
     "output_type": "stream",
     "text": [
      "vectoried version:1.9946098327636719ms\n",
      "249776.91889119713\n"
     ]
    }
   ],
   "source": [
    "tic = time.time()\n",
    "c = np.dot(a,b)\n",
    "toc = time.time()\n",
    "\n",
    "print(\"vectoried version:\" + str(1000*(toc-tic)) + \"ms\")\n",
    "print(c)"
   ]
  },
  {
   "cell_type": "code",
   "execution_count": 14,
   "id": "e6ab59e5",
   "metadata": {},
   "outputs": [
    {
     "name": "stdout",
     "output_type": "stream",
     "text": [
      "249776.9188912045\n",
      "for loop:1442.0850276947021ms\n"
     ]
    }
   ],
   "source": [
    "c = 0\n",
    "tic = time.time()\n",
    "for i in range(1000000):\n",
    "    c+= a[i]*b[i]\n",
    "toc = time.time()\n",
    "\n",
    "print(c)\n",
    "print(\"for loop:\" + str(1000*(toc-tic)) + \"ms\")\n"
   ]
  },
  {
   "cell_type": "code",
   "execution_count": 17,
   "id": "2dd794fb",
   "metadata": {},
   "outputs": [
    {
     "name": "stdout",
     "output_type": "stream",
     "text": [
      "   Color\n",
      "0    Red\n",
      "1  Green\n",
      "2   Blue\n",
      "3  Green\n",
      "4    Red\n"
     ]
    }
   ],
   "source": [
    "import pandas as pd\n",
    "\n",
    "data = {\"Color\": [\"Red\", \"Green\", \"Blue\", \"Green\", \"Red\"]}\n",
    "df = pd.DataFrame(data)\n",
    "\n",
    "print(df)\n"
   ]
  },
  {
   "cell_type": "code",
   "execution_count": 20,
   "id": "429b99c3",
   "metadata": {},
   "outputs": [
    {
     "name": "stdout",
     "output_type": "stream",
     "text": [
      "   Color_Blue  Color_Green  Color_Red\n",
      "0           0            0          1\n",
      "1           0            1          0\n",
      "2           1            0          0\n",
      "3           0            1          0\n",
      "4           0            0          1\n",
      "Color_Blue     int64\n",
      "Color_Green    int64\n",
      "Color_Red      int64\n",
      "dtype: object\n"
     ]
    }
   ],
   "source": [
    "# Convert categorical 'Color' column into one-hot encoding\n",
    "encoded = pd.get_dummies(df, columns=[\"Color\"]).astype(int)\n",
    "\n",
    "print(encoded)\n",
    "print(encoded.dtypes)\n"
   ]
  },
  {
   "cell_type": "code",
   "execution_count": 21,
   "id": "9efe48de",
   "metadata": {},
   "outputs": [
    {
     "name": "stdout",
     "output_type": "stream",
     "text": [
      "NumPy Matrix:\n",
      "[[1 2 3]\n",
      " [4 5 6]\n",
      " [7 8 9]]\n"
     ]
    }
   ],
   "source": [
    "\n",
    "a = [\n",
    "    [1, 2, 3],\n",
    "    [4, 5, 6],\n",
    "    [7, 8, 9]\n",
    "]\n",
    "\n",
    "matrix = np.array(a)\n",
    "\n",
    "print(\"NumPy Matrix:\")\n",
    "print(matrix)\n"
   ]
  },
  {
   "cell_type": "code",
   "execution_count": 23,
   "id": "06c78205",
   "metadata": {},
   "outputs": [
    {
     "data": {
      "text/plain": [
       "array([7.+0.j, 8.+0.j, 9.+0.j])"
      ]
     },
     "execution_count": 23,
     "metadata": {},
     "output_type": "execute_result"
    }
   ],
   "source": [
    "complex_matrix = np.array(a[2], dtype=complex)\n",
    "complex_matrix"
   ]
  },
  {
   "cell_type": "code",
   "execution_count": 25,
   "id": "0c5cf300",
   "metadata": {},
   "outputs": [
    {
     "data": {
      "text/plain": [
       "array([2. +0.j, 3.2+0.j, 0. +4.j])"
      ]
     },
     "execution_count": 25,
     "metadata": {},
     "output_type": "execute_result"
    }
   ],
   "source": [
    "com = np.array([2 ,3.2,4j])\n",
    "com"
   ]
  },
  {
   "cell_type": "code",
   "execution_count": 26,
   "id": "608c52db",
   "metadata": {},
   "outputs": [
    {
     "name": "stdout",
     "output_type": "stream",
     "text": [
      "Matrix A:\n",
      " [[1 2 3]\n",
      " [4 5 6]\n",
      " [7 8 9]]\n",
      "\n",
      "Matrix B:\n",
      " [[9 8 7]\n",
      " [6 5 4]\n",
      " [3 2 1]]\n",
      "\n",
      "A + B =\n",
      " [[10 10 10]\n",
      " [10 10 10]\n",
      " [10 10 10]]\n"
     ]
    }
   ],
   "source": [
    "\n",
    "A = np.array([\n",
    "    [1, 2, 3],\n",
    "    [4, 5, 6],\n",
    "    [7, 8, 9]\n",
    "])\n",
    "\n",
    "\n",
    "B = np.array([\n",
    "    [9, 8, 7],\n",
    "    [6, 5, 4],\n",
    "    [3, 2, 1]\n",
    "])\n",
    "\n",
    "\n",
    "C = A + B\n",
    "\n",
    "print(\"Matrix A:\\n\", A)\n",
    "print(\"\\nMatrix B:\\n\", B)\n",
    "print(\"\\nA + B =\\n\", C)"
   ]
  },
  {
   "cell_type": "code",
   "execution_count": null,
   "id": "e842bb22",
   "metadata": {},
   "outputs": [],
   "source": []
  }
 ],
 "metadata": {
  "kernelspec": {
   "display_name": "Python 3",
   "language": "python",
   "name": "python3"
  },
  "language_info": {
   "codemirror_mode": {
    "name": "ipython",
    "version": 3
   },
   "file_extension": ".py",
   "mimetype": "text/x-python",
   "name": "python",
   "nbconvert_exporter": "python",
   "pygments_lexer": "ipython3",
   "version": "3.11.3"
  }
 },
 "nbformat": 4,
 "nbformat_minor": 5
}
