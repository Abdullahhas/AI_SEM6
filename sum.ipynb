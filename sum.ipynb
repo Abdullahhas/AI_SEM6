{
 "cells": [
  {
   "cell_type": "code",
   "execution_count": 1,
   "id": "11ec1c81",
   "metadata": {},
   "outputs": [],
   "source": [
    "x1 = [2,3,5,6]\n",
    "x2 = [6,9,2,5]\n",
    "l = []"
   ]
  },
  {
   "cell_type": "code",
   "execution_count": 3,
   "id": "380039c9",
   "metadata": {},
   "outputs": [],
   "source": [
    "for i ,j in zip(x1 , x2):\n",
    "    l.append(i+j)"
   ]
  },
  {
   "cell_type": "code",
   "execution_count": 4,
   "id": "31ef6b96",
   "metadata": {},
   "outputs": [
    {
     "name": "stdout",
     "output_type": "stream",
     "text": [
      "8\n",
      "12\n",
      "7\n",
      "11\n"
     ]
    }
   ],
   "source": [
    "for i in l:\n",
    "    print(i)"
   ]
  },
  {
   "cell_type": "code",
   "execution_count": 10,
   "id": "cb643a0a",
   "metadata": {},
   "outputs": [],
   "source": [
    "import numpy as np\n",
    "import time\n"
   ]
  },
  {
   "cell_type": "code",
   "execution_count": 6,
   "id": "ef5bd093",
   "metadata": {},
   "outputs": [],
   "source": [
    "x1 = np.array([2,3,5,6])\n",
    "x2 = np.array([6,9,2,5])\n",
    "x3 = x1 + x2"
   ]
  },
  {
   "cell_type": "code",
   "execution_count": 8,
   "id": "bde33c22",
   "metadata": {},
   "outputs": [
    {
     "name": "stdout",
     "output_type": "stream",
     "text": [
      "[ 8 12  7 11]\n"
     ]
    }
   ],
   "source": [
    "print(x3)"
   ]
  },
  {
   "cell_type": "code",
   "execution_count": 9,
   "id": "82f88779",
   "metadata": {},
   "outputs": [
    {
     "data": {
      "text/plain": [
       "np.int64(79)"
      ]
     },
     "execution_count": 9,
     "metadata": {},
     "output_type": "execute_result"
    }
   ],
   "source": [
    "np.dot(x1,x2)"
   ]
  },
  {
   "cell_type": "code",
   "execution_count": 16,
   "id": "c5a15702",
   "metadata": {},
   "outputs": [
    {
     "data": {
      "text/plain": [
       "array([0.43789611, 0.27192124, 0.82784674, ..., 0.45189756, 0.40962844,\n",
       "       0.79596572], shape=(1000000,))"
      ]
     },
     "execution_count": 16,
     "metadata": {},
     "output_type": "execute_result"
    }
   ],
   "source": [
    "a = np.random.rand(1000000)\n",
    "b = np.random.rand(1000000)\n",
    "a"
   ]
  },
  {
   "cell_type": "code",
   "execution_count": 15,
   "id": "da9810e7",
   "metadata": {},
   "outputs": [
    {
     "name": "stdout",
     "output_type": "stream",
     "text": [
      "vectoried version:1.9946098327636719ms\n",
      "249776.91889119713\n"
     ]
    }
   ],
   "source": [
    "tic = time.time()\n",
    "c = np.dot(a,b)\n",
    "toc = time.time()\n",
    "\n",
    "print(\"vectoried version:\" + str(1000*(toc-tic)) + \"ms\")\n",
    "print(c)"
   ]
  },
  {
   "cell_type": "code",
   "execution_count": 14,
   "id": "e6ab59e5",
   "metadata": {},
   "outputs": [
    {
     "name": "stdout",
     "output_type": "stream",
     "text": [
      "249776.9188912045\n",
      "for loop:1442.0850276947021ms\n"
     ]
    }
   ],
   "source": [
    "c = 0\n",
    "tic = time.time()\n",
    "for i in range(1000000):\n",
    "    c+= a[i]*b[i]\n",
    "toc = time.time()\n",
    "\n",
    "print(c)\n",
    "print(\"for loop:\" + str(1000*(toc-tic)) + \"ms\")\n"
   ]
  }
 ],
 "metadata": {
  "kernelspec": {
   "display_name": "Python 3",
   "language": "python",
   "name": "python3"
  },
  "language_info": {
   "codemirror_mode": {
    "name": "ipython",
    "version": 3
   },
   "file_extension": ".py",
   "mimetype": "text/x-python",
   "name": "python",
   "nbconvert_exporter": "python",
   "pygments_lexer": "ipython3",
   "version": "3.11.3"
  }
 },
 "nbformat": 4,
 "nbformat_minor": 5
}
