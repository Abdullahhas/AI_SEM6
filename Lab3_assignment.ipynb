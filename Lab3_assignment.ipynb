{
 "cells": [
  {
   "cell_type": "code",
   "execution_count": 1,
   "id": "38719274-b732-423b-a791-9005b5d9fc3e",
   "metadata": {},
   "outputs": [
    {
     "name": "stdout",
     "output_type": "stream",
     "text": [
      "BFS Path from Arad to Bucharest: ['Arad', 'Sibiu', 'Fagaras', 'Bucharest']\n"
     ]
    }
   ],
   "source": [
    "# Lab Task 1: BFS from Arad to Bucharest\n",
    "from collections import deque\n",
    "\n",
    "romania_map = {\n",
    "    'Arad': ['Zerind', 'Timisoara', 'Sibiu'],\n",
    "    'Zerind': ['Arad', 'Oradea'],\n",
    "    'Oradea': ['Zerind', 'Sibiu'],\n",
    "    'Sibiu': ['Arad', 'Oradea', 'Fagaras', 'Rimnicu Vilcea'],\n",
    "    'Timisoara': ['Arad', 'Lugoj'],\n",
    "    'Lugoj': ['Timisoara', 'Mehadia'],\n",
    "    'Mehadia': ['Lugoj', 'Drobeta'],\n",
    "    'Drobeta': ['Mehadia', 'Craiova'],\n",
    "    'Craiova': ['Drobeta', 'Pitesti', 'Rimnicu Vilcea'],\n",
    "    'Rimnicu Vilcea': ['Sibiu', 'Pitesti', 'Craiova'],\n",
    "    'Fagaras': ['Sibiu', 'Bucharest'],\n",
    "    'Pitesti': ['Rimnicu Vilcea', 'Craiova', 'Bucharest'],\n",
    "    'Bucharest': ['Fagaras', 'Pitesti', 'Giurgiu', 'Urziceni'],\n",
    "    'Giurgiu': ['Bucharest'],\n",
    "    'Urziceni': ['Bucharest', 'Vaslui', 'Hirsova'],\n",
    "    'Hirsova': ['Urziceni', 'Eforie'],\n",
    "    'Eforie': ['Hirsova'],\n",
    "    'Vaslui': ['Urziceni', 'Iasi'],\n",
    "    'Iasi': ['Vaslui', 'Neamt'],\n",
    "    'Neamt': ['Iasi']\n",
    "}\n",
    "\n",
    "def bfs_path(graph, start, goal):\n",
    "    queue = deque([[start]])\n",
    "    visited = set()\n",
    "\n",
    "    while queue:\n",
    "        path = queue.popleft()\n",
    "        node = path[-1]\n",
    "\n",
    "        if node == goal:\n",
    "            return path\n",
    "\n",
    "        if node not in visited:\n",
    "            for neighbor in graph[node]:\n",
    "                new_path = list(path)\n",
    "                new_path.append(neighbor)\n",
    "                queue.append(new_path)\n",
    "            visited.add(node)\n",
    "    return None\n",
    "\n",
    "path = bfs_path(romania_map, 'Arad', 'Bucharest')\n",
    "print(\"BFS Path from Arad to Bucharest:\", path)\n"
   ]
  },
  {
   "cell_type": "code",
   "execution_count": 2,
   "id": "70fc57f0-0e78-46b2-85a0-7f6874de07e7",
   "metadata": {},
   "outputs": [
    {
     "name": "stdout",
     "output_type": "stream",
     "text": [
      "Path through the maze: [(0, 0), (1, 0), (2, 0), (2, 1), (2, 2), (3, 2), (4, 2), (4, 3), (4, 4)]\n"
     ]
    }
   ],
   "source": [
    "# Lab Task 2: BFS Maze Solver\n",
    "from collections import deque\n",
    "\n",
    "# 0 = empty, 1 = wall\n",
    "maze = [\n",
    "    [0, 1, 0, 0, 0],\n",
    "    [0, 1, 0, 1, 0],\n",
    "    [0, 0, 0, 1, 0],\n",
    "    [1, 1, 0, 1, 0],\n",
    "    [0, 0, 0, 0, 0]\n",
    "]\n",
    "\n",
    "start = (0, 0)  # top-left\n",
    "goal = (4, 4)   # bottom-right\n",
    "\n",
    "def bfs_maze(maze, start, goal):\n",
    "    rows, cols = len(maze), len(maze[0])\n",
    "    queue = deque([[start]])\n",
    "    visited = set()\n",
    "\n",
    "    while queue:\n",
    "        path = queue.popleft()\n",
    "        x, y = path[-1]\n",
    "\n",
    "        if (x, y) == goal:\n",
    "            return path\n",
    "\n",
    "        if (x, y) not in visited:\n",
    "            for dx, dy in [(1,0), (-1,0), (0,1), (0,-1)]:\n",
    "                nx, ny = x + dx, y + dy\n",
    "                if 0 <= nx < rows and 0 <= ny < cols and maze[nx][ny] == 0:\n",
    "                    new_path = list(path)\n",
    "                    new_path.append((nx, ny))\n",
    "                    queue.append(new_path)\n",
    "            visited.add((x, y))\n",
    "    return None\n",
    "\n",
    "solution = bfs_maze(maze, start, goal)\n",
    "print(\"Path through the maze:\", solution)\n"
   ]
  }
 ],
 "metadata": {
  "kernelspec": {
   "display_name": "Python 3",
   "language": "python",
   "name": "python3"
  },
  "language_info": {
   "codemirror_mode": {
    "name": "ipython",
    "version": 3
   },
   "file_extension": ".py",
   "mimetype": "text/x-python",
   "name": "python",
   "nbconvert_exporter": "python",
   "pygments_lexer": "ipython3",
   "version": "3.11.3"
  }
 },
 "nbformat": 4,
 "nbformat_minor": 5
}
