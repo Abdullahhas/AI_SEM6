{
 "cells": [
  {
   "cell_type": "code",
   "execution_count": 45,
   "id": "d8093be2",
   "metadata": {},
   "outputs": [],
   "source": [
    "import numpy as np\n",
    "\n"
   ]
  },
  {
   "cell_type": "code",
   "execution_count": 30,
   "id": "bf1fd2c3",
   "metadata": {},
   "outputs": [
    {
     "data": {
      "text/plain": [
       "(array([[1, 2, 1, 1, 1],\n",
       "        [1, 7, 3, 2, 1]]),\n",
       " array([5, 8]))"
      ]
     },
     "execution_count": 30,
     "metadata": {},
     "output_type": "execute_result"
    }
   ],
   "source": [
    "X = np.array([\n",
    "    [1,2,1,1,1],\n",
    "    [1,7,3,2,1]\n",
    "])\n",
    "\n",
    "y = np.array([5,8])\n",
    "\n",
    "X , y"
   ]
  },
  {
   "cell_type": "code",
   "execution_count": 31,
   "id": "8c15411d",
   "metadata": {},
   "outputs": [
    {
     "name": "stdout",
     "output_type": "stream",
     "text": [
      "shape of X is (2, 5)\n",
      "shape of y is (2,)\n"
     ]
    }
   ],
   "source": [
    "print(\"shape of X is\" , X.shape)\n",
    "print(\"shape of y is\" , y.shape)"
   ]
  },
  {
   "cell_type": "code",
   "execution_count": null,
   "id": "6c718649",
   "metadata": {},
   "outputs": [
    {
     "data": {
      "text/plain": [
       "array([[1., 1., 2., 1., 1., 1.],\n",
       "       [1., 1., 7., 3., 2., 1.]])"
      ]
     },
     "execution_count": 46,
     "metadata": {},
     "output_type": "execute_result"
    }
   ],
   "source": [
    "X_b = np.hstack([np.ones((X.shape[0],1)), X])  #Add bias\n",
    "X_b"
   ]
  },
  {
   "cell_type": "code",
   "execution_count": null,
   "id": "2f5b519f",
   "metadata": {},
   "outputs": [],
   "source": [
    "parameters  = np.linalg.pinv(X_b) @ y  #find parameters"
   ]
  },
  {
   "cell_type": "code",
   "execution_count": 34,
   "id": "3c044d99",
   "metadata": {},
   "outputs": [
    {
     "data": {
      "text/plain": [
       "array([1.0990099 , 1.0990099 , 0.31683168, 0.34653465, 0.72277228,\n",
       "       1.0990099 ])"
      ]
     },
     "execution_count": 34,
     "metadata": {},
     "output_type": "execute_result"
    }
   ],
   "source": [
    "parameters"
   ]
  },
  {
   "cell_type": "code",
   "execution_count": 44,
   "id": "54e32616",
   "metadata": {},
   "outputs": [
    {
     "name": "stdout",
     "output_type": "stream",
     "text": [
      "[5. 8.]\n"
     ]
    }
   ],
   "source": [
    "y_train_pred = X_b @ parameters\n",
    "print(y_train_pred)"
   ]
  },
  {
   "cell_type": "code",
   "execution_count": 42,
   "id": "c4a02d31",
   "metadata": {},
   "outputs": [],
   "source": [
    "x3 = np.array([1,1,2,1,1,1])"
   ]
  },
  {
   "cell_type": "code",
   "execution_count": 38,
   "id": "7a2dd9d6",
   "metadata": {},
   "outputs": [
    {
     "data": {
      "text/plain": [
       "np.float64(4.999999999999998)"
      ]
     },
     "execution_count": 38,
     "metadata": {},
     "output_type": "execute_result"
    }
   ],
   "source": [
    "y_pred = x3 @ parameters\n",
    "y_pred"
   ]
  }
 ],
 "metadata": {
  "kernelspec": {
   "display_name": "Python 3",
   "language": "python",
   "name": "python3"
  },
  "language_info": {
   "codemirror_mode": {
    "name": "ipython",
    "version": 3
   },
   "file_extension": ".py",
   "mimetype": "text/x-python",
   "name": "python",
   "nbconvert_exporter": "python",
   "pygments_lexer": "ipython3",
   "version": "3.11.3"
  }
 },
 "nbformat": 4,
 "nbformat_minor": 5
}
