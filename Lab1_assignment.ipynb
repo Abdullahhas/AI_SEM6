{
 "cells": [
  {
   "cell_type": "code",
   "execution_count": 1,
   "id": "b9b2b412-002b-480a-bd99-d897da77189d",
   "metadata": {},
   "outputs": [
    {
     "name": "stdout",
     "output_type": "stream",
     "text": [
      "Reversed number: 3\n"
     ]
    }
   ],
   "source": [
    "# Lab Task 1: Reverse digits of an integer\n",
    "num = int(input(\"Enter an integer: \"))\n",
    "reverse_num = 0\n",
    "\n",
    "while num > 0:\n",
    "    digit = num % 10\n",
    "    reverse_num = reverse_num * 10 + digit\n",
    "    num //= 10\n",
    "\n",
    "print(\"Reversed number:\", reverse_num)\n"
   ]
  },
  {
   "cell_type": "code",
   "execution_count": 2,
   "id": "fc73b7c1-0570-41fe-91f1-1e6d1cdc9793",
   "metadata": {},
   "outputs": [
    {
     "name": "stdout",
     "output_type": "stream",
     "text": [
      "Sum of even numbers: 0\n",
      "Sum of odd numbers: 3\n"
     ]
    }
   ],
   "source": [
    "# Lab Task 2: Sum of even and odd numbers\n",
    "numbers = list(map(int, input(\"Enter integers separated by space: \").split()))\n",
    "even_sum = 0\n",
    "odd_sum = 0\n",
    "\n",
    "for n in numbers:\n",
    "    if n % 2 == 0:\n",
    "        even_sum += n\n",
    "    else:\n",
    "        odd_sum += n\n",
    "\n",
    "print(\"Sum of even numbers:\", even_sum)\n",
    "print(\"Sum of odd numbers:\", odd_sum)\n"
   ]
  },
  {
   "cell_type": "code",
   "execution_count": 3,
   "id": "88d443d8-98c9-4845-bdaa-5944c5573039",
   "metadata": {},
   "outputs": [
    {
     "name": "stdout",
     "output_type": "stream",
     "text": [
      "Fibonacci series:\n",
      "0 1 1 "
     ]
    }
   ],
   "source": [
    "# Lab Task 3: Fibonacci series\n",
    "terms = int(input(\"Enter number of terms: \"))\n",
    "a, b = 0, 1\n",
    "\n",
    "print(\"Fibonacci series:\")\n",
    "for i in range(terms):\n",
    "    print(a, end=\" \")\n",
    "    a, b = b, a + b\n"
   ]
  },
  {
   "cell_type": "code",
   "execution_count": 4,
   "id": "ab5f63f0-5fcd-4b13-aaa7-d63bc3fd50e7",
   "metadata": {},
   "outputs": [
    {
     "name": "stdout",
     "output_type": "stream",
     "text": [
      "Grade: A\n"
     ]
    }
   ],
   "source": [
    "# Lab Task 4: Student grades\n",
    "marks = int(input(\"Enter marks (1-100): \"))\n",
    "\n",
    "if marks < 50:\n",
    "    grade = \"F\"\n",
    "elif marks <= 60:\n",
    "    grade = \"E\"\n",
    "elif marks <= 70:\n",
    "    grade = \"D\"\n",
    "elif marks <= 80:\n",
    "    grade = \"C\"\n",
    "elif marks <= 90:\n",
    "    grade = \"B\"\n",
    "elif marks <= 100:\n",
    "    grade = \"A\"\n",
    "else:\n",
    "    grade = \"Invalid input!\"\n",
    "\n",
    "print(\"Grade:\", grade)\n"
   ]
  },
  {
   "cell_type": "code",
   "execution_count": 5,
   "id": "84fd1127-3908-480f-a2d0-1b4d21cbc7e3",
   "metadata": {},
   "outputs": [
    {
     "name": "stdout",
     "output_type": "stream",
     "text": [
      "Factorial: 120\n"
     ]
    }
   ],
   "source": [
    "# Lab Task 5: Factorial of a number\n",
    "num = int(input(\"Enter a number: \"))\n",
    "fact = 1\n",
    "\n",
    "for i in range(1, num + 1):\n",
    "    fact *= i\n",
    "\n",
    "print(\"Factorial:\", fact)\n"
   ]
  }
 ],
 "metadata": {
  "kernelspec": {
   "display_name": "Python 3",
   "language": "python",
   "name": "python3"
  },
  "language_info": {
   "codemirror_mode": {
    "name": "ipython",
    "version": 3
   },
   "file_extension": ".py",
   "mimetype": "text/x-python",
   "name": "python",
   "nbconvert_exporter": "python",
   "pygments_lexer": "ipython3",
   "version": "3.11.3"
  }
 },
 "nbformat": 4,
 "nbformat_minor": 5
}
