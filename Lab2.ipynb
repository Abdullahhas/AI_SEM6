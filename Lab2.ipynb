{
  "cells": [
    {
      "cell_type": "code",
      "execution_count": 1,
      "id": "c0a9e59c",
      "metadata": {
        "colab": {
          "base_uri": "https://localhost:8080/"
        },
        "id": "c0a9e59c",
        "outputId": "d6be4bd9-98cf-40ef-c979-14cdc60e8d3e"
      },
      "outputs": [
        {
          "data": {
            "text/plain": [
              "complex"
            ]
          },
          "execution_count": 1,
          "metadata": {},
          "output_type": "execute_result"
        }
      ],
      "source": [
        "type(3+58j)"
      ]
    },
    {
      "cell_type": "code",
      "execution_count": 2,
      "id": "83274b91",
      "metadata": {
        "colab": {
          "base_uri": "https://localhost:8080/"
        },
        "id": "83274b91",
        "outputId": "8393e6be-911b-442f-b82b-437118e792f9"
      },
      "outputs": [
        {
          "data": {
            "text/plain": [
              "str"
            ]
          },
          "execution_count": 2,
          "metadata": {},
          "output_type": "execute_result"
        }
      ],
      "source": [
        "type('tyu')"
      ]
    },
    {
      "cell_type": "code",
      "execution_count": 2,
      "id": "2407b52b",
      "metadata": {
        "colab": {
          "base_uri": "https://localhost:8080/"
        },
        "id": "2407b52b",
        "outputId": "b75a23ff-bdf2-481e-b811-07580cd10d47"
      },
      "outputs": [
        {
          "data": {
            "text/plain": [
              "str"
            ]
          },
          "execution_count": 2,
          "metadata": {},
          "output_type": "execute_result"
        }
      ],
      "source": [
        "type(\"23\")"
      ]
    },
    {
      "cell_type": "code",
      "execution_count": 3,
      "id": "b131ff90",
      "metadata": {
        "colab": {
          "base_uri": "https://localhost:8080/"
        },
        "id": "b131ff90",
        "outputId": "901f3e53-60af-4d1e-89d3-9b333b42dbc4"
      },
      "outputs": [
        {
          "data": {
            "text/plain": [
              "int"
            ]
          },
          "execution_count": 3,
          "metadata": {},
          "output_type": "execute_result"
        }
      ],
      "source": [
        "type(3+58)"
      ]
    },
    {
      "cell_type": "code",
      "execution_count": 4,
      "id": "2b786381",
      "metadata": {
        "colab": {
          "base_uri": "https://localhost:8080/"
        },
        "id": "2b786381",
        "outputId": "18cb45f4-cab8-4fb6-c850-5239ec855c6d"
      },
      "outputs": [
        {
          "data": {
            "text/plain": [
              "str"
            ]
          },
          "execution_count": 4,
          "metadata": {},
          "output_type": "execute_result"
        }
      ],
      "source": [
        "type(''''abc''')"
      ]
    },
    {
      "cell_type": "code",
      "execution_count": 5,
      "id": "j_IrXLheMP36",
      "metadata": {
        "id": "j_IrXLheMP36"
      },
      "outputs": [],
      "source": [
        "l = []\n",
        "l.append(2)\n",
        "l.append(3)"
      ]
    },
    {
      "cell_type": "code",
      "execution_count": 6,
      "id": "lpftDEA3MVdX",
      "metadata": {
        "colab": {
          "base_uri": "https://localhost:8080/"
        },
        "id": "lpftDEA3MVdX",
        "outputId": "56b98d86-73a3-4874-9a48-e63a68b070c5"
      },
      "outputs": [
        {
          "data": {
            "text/plain": [
              "[2, 3]"
            ]
          },
          "execution_count": 6,
          "metadata": {},
          "output_type": "execute_result"
        }
      ],
      "source": [
        "l\n"
      ]
    },
    {
      "cell_type": "code",
      "execution_count": 7,
      "id": "ZE3RCJhAMXCB",
      "metadata": {
        "colab": {
          "base_uri": "https://localhost:8080/"
        },
        "id": "ZE3RCJhAMXCB",
        "outputId": "9e6cd65c-12ac-4a06-a51a-d715141f33c0"
      },
      "outputs": [
        {
          "data": {
            "text/plain": [
              "3"
            ]
          },
          "execution_count": 7,
          "metadata": {},
          "output_type": "execute_result"
        }
      ],
      "source": [
        "l.pop()"
      ]
    },
    {
      "cell_type": "code",
      "execution_count": 8,
      "id": "ZQSFzM1UMYJv",
      "metadata": {
        "colab": {
          "base_uri": "https://localhost:8080/"
        },
        "id": "ZQSFzM1UMYJv",
        "outputId": "dfd60fca-02d5-4036-ee61-befaa865377a"
      },
      "outputs": [
        {
          "data": {
            "text/plain": [
              "[2]"
            ]
          },
          "execution_count": 8,
          "metadata": {},
          "output_type": "execute_result"
        }
      ],
      "source": [
        "l\n"
      ]
    },
    {
      "cell_type": "code",
      "execution_count": 9,
      "id": "YYQ5QcWaMZdf",
      "metadata": {
        "colab": {
          "base_uri": "https://localhost:8080/"
        },
        "id": "YYQ5QcWaMZdf",
        "outputId": "decff441-5e24-4419-eadc-ad4399d7c905"
      },
      "outputs": [
        {
          "name": "stdout",
          "output_type": "stream",
          "text": [
            "List after appending: [10, 20, 30]\n",
            "Popped item: 30\n",
            "List after popping: [10, 20]\n",
            "First item popped: 10\n",
            "Final list: [20]\n"
          ]
        }
      ],
      "source": [
        "\n",
        "my_list = []\n",
        "\n",
        "\n",
        "my_list.append(10)\n",
        "my_list.append(20)\n",
        "my_list.append(30)\n",
        "\n",
        "print(\"List after appending:\", my_list)\n",
        "\n",
        "\n",
        "last_item = my_list.pop()\n",
        "print(\"Popped item:\", last_item)\n",
        "print(\"List after popping:\", my_list)\n",
        "\n",
        "first_item = my_list.pop(0)\n",
        "print(\"First item popped:\", first_item)\n",
        "print(\"Final list:\", my_list)\n"
      ]
    },
    {
      "cell_type": "code",
      "execution_count": 10,
      "id": "NHZ-SVAaMrWW",
      "metadata": {
        "colab": {
          "base_uri": "https://localhost:8080/"
        },
        "id": "NHZ-SVAaMrWW",
        "outputId": "0eb511ca-6758-453e-8527-ae65fed47559"
      },
      "outputs": [
        {
          "name": "stdout",
          "output_type": "stream",
          "text": [
            "Queue size after enqueue: 3\n",
            "Dequeued: Task1\n",
            "Queue size after dequeue: 2\n"
          ]
        }
      ],
      "source": [
        "from queue import Queue\n",
        "\n",
        "\n",
        "q = Queue()\n",
        "\n",
        "\n",
        "q.put(\"Task1\")\n",
        "q.put(\"Task2\")\n",
        "q.put(\"Task3\")\n",
        "\n",
        "print(\"Queue size after enqueue:\", q.qsize())\n",
        "\n",
        "\n",
        "first_task = q.get()\n",
        "print(\"Dequeued:\", first_task)\n",
        "print(\"Queue size after dequeue:\", q.qsize())"
      ]
    },
    {
      "cell_type": "code",
      "execution_count": 11,
      "id": "jdRndGLUNwvm",
      "metadata": {
        "colab": {
          "base_uri": "https://localhost:8080/",
          "height": 676
        },
        "id": "jdRndGLUNwvm",
        "outputId": "08f05d00-c5d8-4d62-a507-cb6fa7953243"
      },
      "outputs": [
        {
          "ename": "ModuleNotFoundError",
          "evalue": "No module named 'networkx'",
          "output_type": "error",
          "traceback": [
            "\u001b[31m---------------------------------------------------------------------------\u001b[39m",
            "\u001b[31mModuleNotFoundError\u001b[39m                       Traceback (most recent call last)",
            "\u001b[36mCell\u001b[39m\u001b[36m \u001b[39m\u001b[32mIn[11]\u001b[39m\u001b[32m, line 1\u001b[39m\n\u001b[32m----> \u001b[39m\u001b[32m1\u001b[39m \u001b[38;5;28;01mimport\u001b[39;00m\u001b[38;5;250m \u001b[39m\u001b[34;01mnetworkx\u001b[39;00m\u001b[38;5;250m \u001b[39m\u001b[38;5;28;01mas\u001b[39;00m\u001b[38;5;250m \u001b[39m\u001b[34;01mnx\u001b[39;00m\n\u001b[32m      2\u001b[39m \u001b[38;5;28;01mimport\u001b[39;00m\u001b[38;5;250m \u001b[39m\u001b[34;01mmatplotlib\u001b[39;00m\u001b[34;01m.\u001b[39;00m\u001b[34;01mpyplot\u001b[39;00m\u001b[38;5;250m \u001b[39m\u001b[38;5;28;01mas\u001b[39;00m\u001b[38;5;250m \u001b[39m\u001b[34;01mplt\u001b[39;00m\n\u001b[32m      4\u001b[39m \u001b[38;5;66;03m# Your graph dictionary\u001b[39;00m\n",
            "\u001b[31mModuleNotFoundError\u001b[39m: No module named 'networkx'"
          ]
        }
      ],
      "source": [
        "import networkx as nx\n",
        "import matplotlib.pyplot as plt\n",
        "\n",
        "# Your graph dictionary\n",
        "graph = {\n",
        "    'S': ['E', 'H', 'I'],\n",
        "    'A': ['B', 'D'],\n",
        "    'B': ['A', 'E', 'C'],\n",
        "    'C': ['B', 'F'],\n",
        "    'D': ['A', 'E'],\n",
        "    'E': ['B', 'D', 'F'],\n",
        "    'F': ['J', 'I', 'E'],\n",
        "    'G': ['D', 'H', 'N'],\n",
        "    'H': ['S', 'K', 'G'],\n",
        "    'I': ['S', 'K', 'L', 'F'],\n",
        "    'J': ['F', 'L'],\n",
        "    'K': ['I', 'H', 'M', 'N'],\n",
        "    'L': ['I', 'J', 'M'],\n",
        "    'M': ['L', 'K'],\n",
        "    'N': ['K', 'G']\n",
        "}\n",
        "\n",
        "# Create graph\n",
        "G = nx.Graph()\n",
        "\n",
        "# Add edges from dictionary\n",
        "for node, neighbors in graph.items():\n",
        "    for neighbor in neighbors:\n",
        "        G.add_edge(node, neighbor)\n",
        "\n",
        "# Draw the graph\n",
        "plt.figure(figsize=(8, 6))\n",
        "pos = nx.spring_layout(G, seed=42)   # Layout for better visualization\n",
        "nx.draw(G, pos, with_labels=True, node_size=800, node_color=\"red\", font_size=10, font_weight=\"bold\")\n",
        "plt.title(\"Graph Visualization\")\n",
        "\n"
      ]
    },
    {
      "cell_type": "code",
      "execution_count": null,
      "id": "pfBCcsSZTxhj",
      "metadata": {
        "colab": {
          "base_uri": "https://localhost:8080/",
          "height": 516
        },
        "id": "pfBCcsSZTxhj",
        "outputId": "d3057d43-83a4-4b35-84c3-b164323a0a59"
      },
      "outputs": [
        {
          "data": {
            "image/png": "[encoded data removed]",
            "text/plain": [
              "<Figure size 640x480 with 1 Axes>"
            ]
          },
          "metadata": {},
          "output_type": "display_data"
        }
      ],
      "source": [
        "import networkx as nx\n",
        "import matplotlib.pyplot as plt\n",
        "\n",
        "G = nx.Graph()\n",
        "G.add_nodes_from([1,2,3,4])\n",
        "G.add_edges_from([(1,2),(2,3),(3,4),(4,1)])\n",
        "nx.draw(G, with_labels=True , font_size = 15)\n",
        "plt.show()\n",
        "\n"
      ]
    },
    {
      "cell_type": "code",
      "execution_count": 12,
      "id": "SzCtidONVyXH",
      "metadata": {
        "colab": {
          "base_uri": "https://localhost:8080/",
          "height": 559
        },
        "id": "SzCtidONVyXH",
        "outputId": "0e168c33-3bb3-412d-98e5-97af4a79ecfb"
      },
      "outputs": [
        {
          "ename": "ModuleNotFoundError",
          "evalue": "No module named 'networkx'",
          "output_type": "error",
          "traceback": [
            "\u001b[31m---------------------------------------------------------------------------\u001b[39m",
            "\u001b[31mModuleNotFoundError\u001b[39m                       Traceback (most recent call last)",
            "\u001b[36mCell\u001b[39m\u001b[36m \u001b[39m\u001b[32mIn[12]\u001b[39m\u001b[32m, line 1\u001b[39m\n\u001b[32m----> \u001b[39m\u001b[32m1\u001b[39m \u001b[38;5;28;01mimport\u001b[39;00m\u001b[38;5;250m \u001b[39m\u001b[34;01mnetworkx\u001b[39;00m\u001b[38;5;250m \u001b[39m\u001b[38;5;28;01mas\u001b[39;00m\u001b[38;5;250m \u001b[39m\u001b[34;01mnx\u001b[39;00m\n\u001b[32m      2\u001b[39m \u001b[38;5;28;01mimport\u001b[39;00m\u001b[38;5;250m \u001b[39m\u001b[34;01mmatplotlib\u001b[39;00m\u001b[34;01m.\u001b[39;00m\u001b[34;01mpyplot\u001b[39;00m\u001b[38;5;250m \u001b[39m\u001b[38;5;28;01mas\u001b[39;00m\u001b[38;5;250m \u001b[39m\u001b[34;01mplt\u001b[39;00m\n\u001b[32m      4\u001b[39m \u001b[38;5;66;03m# Create an empty graph\u001b[39;00m\n",
            "\u001b[31mModuleNotFoundError\u001b[39m: No module named 'networkx'"
          ]
        }
      ],
      "source": [
        "import networkx as nx\n",
        "import matplotlib.pyplot as plt\n",
        "\n",
        "# Create an empty graph\n",
        "G = nx.Graph()\n",
        "\n",
        "# Add nodes one by one\n",
        "G.add_node(1)\n",
        "G.add_node(2)\n",
        "G.add_node(3)\n",
        "G.add_node(4)\n",
        "\n",
        "# Add edges one by one\n",
        "G.add_edge(1, 2)\n",
        "G.add_edge(2, 3)\n",
        "G.add_edge(3, 4)\n",
        "G.add_edge(4, 1)\n",
        "\n",
        "# Draw graph\n",
        "plt.figure(figsize=(5, 5))\n",
        "pos = nx.circular_layout(G)  # positions arranged in circle\n",
        "nx.draw(\n",
        "    G, pos,\n",
        "    with_labels=True,\n",
        "    node_size=800,\n",
        "    node_color=\"orange\",\n",
        "    font_size=12,\n",
        "    font_weight=\"bold\",\n",
        "    edge_color=\"black\"\n",
        ")\n",
        "plt.title(\"Graph built step by step\")\n",
        "plt.show()\n"
      ]
    },
    {
      "cell_type": "code",
      "execution_count": 13,
      "id": "lPOYHrS2Wm7s",
      "metadata": {
        "colab": {
          "base_uri": "https://localhost:8080/",
          "height": 559
        },
        "id": "lPOYHrS2Wm7s",
        "outputId": "b8500734-da13-448d-bc55-418abd2e8d5f"
      },
      "outputs": [
        {
          "ename": "ModuleNotFoundError",
          "evalue": "No module named 'networkx'",
          "output_type": "error",
          "traceback": [
            "\u001b[31m---------------------------------------------------------------------------\u001b[39m",
            "\u001b[31mModuleNotFoundError\u001b[39m                       Traceback (most recent call last)",
            "\u001b[36mCell\u001b[39m\u001b[36m \u001b[39m\u001b[32mIn[13]\u001b[39m\u001b[32m, line 1\u001b[39m\n\u001b[32m----> \u001b[39m\u001b[32m1\u001b[39m \u001b[38;5;28;01mimport\u001b[39;00m\u001b[38;5;250m \u001b[39m\u001b[34;01mnetworkx\u001b[39;00m\u001b[38;5;250m \u001b[39m\u001b[38;5;28;01mas\u001b[39;00m\u001b[38;5;250m \u001b[39m\u001b[34;01mnx\u001b[39;00m\n\u001b[32m      2\u001b[39m \u001b[38;5;28;01mimport\u001b[39;00m\u001b[38;5;250m \u001b[39m\u001b[34;01mmatplotlib\u001b[39;00m\u001b[34;01m.\u001b[39;00m\u001b[34;01mpyplot\u001b[39;00m\u001b[38;5;250m \u001b[39m\u001b[38;5;28;01mas\u001b[39;00m\u001b[38;5;250m \u001b[39m\u001b[34;01mplt\u001b[39;00m\n\u001b[32m      4\u001b[39m \u001b[38;5;66;03m# Create an empty graph\u001b[39;00m\n",
            "\u001b[31mModuleNotFoundError\u001b[39m: No module named 'networkx'"
          ]
        }
      ],
      "source": [
        "import networkx as nx\n",
        "import matplotlib.pyplot as plt\n",
        "\n",
        "# Create an empty graph\n",
        "G = nx.Graph()\n",
        "\n",
        "# Add nodes using a loop\n",
        "for i in range(1, 5):   # nodes 1, 2, 3, 4\n",
        "    G.add_node(i)\n",
        "\n",
        "# Add edges using a list of tuples\n",
        "edges = [(1, 2), (2, 3), (3, 4), (4, 1)]\n",
        "for u, v in edges:\n",
        "    G.add_edge(u, v)\n",
        "\n",
        "# Draw graph\n",
        "plt.figure(figsize=(5, 5))\n",
        "pos = nx.circular_layout(G)  # circular layout\n",
        "nx.draw(\n",
        "    G, pos,\n",
        "    with_labels=True,\n",
        "    node_size=800,\n",
        "    node_color=\"lightblue\",\n",
        "    font_size=12,\n",
        "    font_weight=\"bold\",\n",
        "    edge_color=\"black\"\n",
        ")\n",
        "plt.title(\"Graph with Nodes Added via Loop\")\n",
        "plt.show()\n"
      ]
    },
    {
      "cell_type": "code",
      "execution_count": 14,
      "id": "BkJL4voeWxsX",
      "metadata": {
        "colab": {
          "base_uri": "https://localhost:8080/",
          "height": 559
        },
        "id": "BkJL4voeWxsX",
        "outputId": "4c6de717-6715-4580-e0a1-a2b6d96b7da0"
      },
      "outputs": [
        {
          "ename": "ModuleNotFoundError",
          "evalue": "No module named 'networkx'",
          "output_type": "error",
          "traceback": [
            "\u001b[31m---------------------------------------------------------------------------\u001b[39m",
            "\u001b[31mModuleNotFoundError\u001b[39m                       Traceback (most recent call last)",
            "\u001b[36mCell\u001b[39m\u001b[36m \u001b[39m\u001b[32mIn[14]\u001b[39m\u001b[32m, line 1\u001b[39m\n\u001b[32m----> \u001b[39m\u001b[32m1\u001b[39m \u001b[38;5;28;01mimport\u001b[39;00m\u001b[38;5;250m \u001b[39m\u001b[34;01mnetworkx\u001b[39;00m\u001b[38;5;250m \u001b[39m\u001b[38;5;28;01mas\u001b[39;00m\u001b[38;5;250m \u001b[39m\u001b[34;01mnx\u001b[39;00m\n\u001b[32m      2\u001b[39m \u001b[38;5;28;01mimport\u001b[39;00m\u001b[38;5;250m \u001b[39m\u001b[34;01mmatplotlib\u001b[39;00m\u001b[34;01m.\u001b[39;00m\u001b[34;01mpyplot\u001b[39;00m\u001b[38;5;250m \u001b[39m\u001b[38;5;28;01mas\u001b[39;00m\u001b[38;5;250m \u001b[39m\u001b[34;01mplt\u001b[39;00m\n\u001b[32m      4\u001b[39m \u001b[38;5;66;03m# Create an empty graph\u001b[39;00m\n",
            "\u001b[31mModuleNotFoundError\u001b[39m: No module named 'networkx'"
          ]
        }
      ],
      "source": [
        "import networkx as nx\n",
        "import matplotlib.pyplot as plt\n",
        "\n",
        "# Create an empty graph\n",
        "G = nx.Graph()\n",
        "\n",
        "# List of nodes\n",
        "nodes = [1, 2, 3, 4]\n",
        "\n",
        "# Add nodes using loop\n",
        "for node in nodes:\n",
        "    G.add_node(node)\n",
        "\n",
        "# List of edges\n",
        "edges = [(1, 2), (2, 3), (3, 4), (4, 1)]\n",
        "\n",
        "# Add edges using loop\n",
        "for edge in edges:\n",
        "    G.add_edge(edge[0], edge[1])\n",
        "\n",
        "# Draw graph\n",
        "plt.figure(figsize=(5, 5))\n",
        "pos = nx.circular_layout(G)  # circular layout\n",
        "nx.draw(\n",
        "    G, pos,\n",
        "    with_labels=True,\n",
        "    node_size=800,\n",
        "    node_color=\"lightcoral\",\n",
        "    font_size=12,\n",
        "    font_weight=\"bold\",\n",
        "    edge_color=\"black\"\n",
        ")\n",
        "plt.title(\"Graph: Nodes & Edges Added via Lists + Loops\")\n",
        "plt.show()\n"
      ]
    },
    {
      "cell_type": "code",
      "execution_count": 15,
      "id": "u-YsjeHlXGJa",
      "metadata": {
        "colab": {
          "base_uri": "https://localhost:8080/",
          "height": 559
        },
        "id": "u-YsjeHlXGJa",
        "outputId": "b70a6075-76ad-497c-9e72-e630ac8ad096"
      },
      "outputs": [
        {
          "ename": "ModuleNotFoundError",
          "evalue": "No module named 'networkx'",
          "output_type": "error",
          "traceback": [
            "\u001b[31m---------------------------------------------------------------------------\u001b[39m",
            "\u001b[31mModuleNotFoundError\u001b[39m                       Traceback (most recent call last)",
            "\u001b[36mCell\u001b[39m\u001b[36m \u001b[39m\u001b[32mIn[15]\u001b[39m\u001b[32m, line 1\u001b[39m\n\u001b[32m----> \u001b[39m\u001b[32m1\u001b[39m \u001b[38;5;28;01mimport\u001b[39;00m\u001b[38;5;250m \u001b[39m\u001b[34;01mnetworkx\u001b[39;00m\u001b[38;5;250m \u001b[39m\u001b[38;5;28;01mas\u001b[39;00m\u001b[38;5;250m \u001b[39m\u001b[34;01mnx\u001b[39;00m\n\u001b[32m      2\u001b[39m \u001b[38;5;28;01mimport\u001b[39;00m\u001b[38;5;250m \u001b[39m\u001b[34;01mmatplotlib\u001b[39;00m\u001b[34;01m.\u001b[39;00m\u001b[34;01mpyplot\u001b[39;00m\u001b[38;5;250m \u001b[39m\u001b[38;5;28;01mas\u001b[39;00m\u001b[38;5;250m \u001b[39m\u001b[34;01mplt\u001b[39;00m\n\u001b[32m      4\u001b[39m \u001b[38;5;66;03m# Create a Directed Graph\u001b[39;00m\n",
            "\u001b[31mModuleNotFoundError\u001b[39m: No module named 'networkx'"
          ]
        }
      ],
      "source": [
        "import networkx as nx\n",
        "import matplotlib.pyplot as plt\n",
        "\n",
        "# Create a Directed Graph\n",
        "G = nx.DiGraph()\n",
        "\n",
        "# List of nodes\n",
        "nodes = [1, 2, 3, 4]\n",
        "\n",
        "# Add nodes\n",
        "for node in nodes:\n",
        "    G.add_node(node)\n",
        "\n",
        "# List of directed edges\n",
        "edges = [(1, 2), (2, 3), (3, 4), (4, 1)]\n",
        "\n",
        "# Add edges\n",
        "for edge in edges:\n",
        "    G.add_edge(edge[0], edge[1])\n",
        "\n",
        "# Draw directed graph\n",
        "plt.figure(figsize=(5, 5))\n",
        "pos = nx.circular_layout(G)  # circular layout looks clean\n",
        "nx.draw(\n",
        "    G, pos,\n",
        "    with_labels=True,\n",
        "    node_size=800,\n",
        "    node_color=\"lightgreen\",\n",
        "    font_size=12,\n",
        "    font_weight=\"bold\",\n",
        "    edge_color=\"black\",\n",
        "    arrows=True,             # show arrows\n",
        "    arrowsize=20,            # size of arrow\n",
        "    connectionstyle=\"arc3,rad=0.1\"  # slight curve for clarity\n",
        ")\n",
        "plt.title(\"Directed Graph (Cycle 1 → 2 → 3 → 4 → 1)\")\n",
        "plt.show()\n"
      ]
    },
    {
      "cell_type": "code",
      "execution_count": 16,
      "id": "GVZcqWMSXbqE",
      "metadata": {
        "colab": {
          "base_uri": "https://localhost:8080/",
          "height": 677
        },
        "id": "GVZcqWMSXbqE",
        "outputId": "03ee3e1f-f946-452e-fa21-1dd97cc5e717"
      },
      "outputs": [
        {
          "ename": "ModuleNotFoundError",
          "evalue": "No module named 'networkx'",
          "output_type": "error",
          "traceback": [
            "\u001b[31m---------------------------------------------------------------------------\u001b[39m",
            "\u001b[31mModuleNotFoundError\u001b[39m                       Traceback (most recent call last)",
            "\u001b[36mCell\u001b[39m\u001b[36m \u001b[39m\u001b[32mIn[16]\u001b[39m\u001b[32m, line 1\u001b[39m\n\u001b[32m----> \u001b[39m\u001b[32m1\u001b[39m \u001b[38;5;28;01mimport\u001b[39;00m\u001b[38;5;250m \u001b[39m\u001b[34;01mnetworkx\u001b[39;00m\u001b[38;5;250m \u001b[39m\u001b[38;5;28;01mas\u001b[39;00m\u001b[38;5;250m \u001b[39m\u001b[34;01mnx\u001b[39;00m\n\u001b[32m      2\u001b[39m \u001b[38;5;28;01mimport\u001b[39;00m\u001b[38;5;250m \u001b[39m\u001b[34;01mmatplotlib\u001b[39;00m\u001b[34;01m.\u001b[39;00m\u001b[34;01mpyplot\u001b[39;00m\u001b[38;5;250m \u001b[39m\u001b[38;5;28;01mas\u001b[39;00m\u001b[38;5;250m \u001b[39m\u001b[34;01mplt\u001b[39;00m\n\u001b[32m      4\u001b[39m \u001b[38;5;66;03m# 1) Nodes: 10 friends\u001b[39;00m\n",
            "\u001b[31mModuleNotFoundError\u001b[39m: No module named 'networkx'"
          ]
        }
      ],
      "source": [
        "import networkx as nx\n",
        "import matplotlib.pyplot as plt\n",
        "\n",
        "# 1) Nodes: 10 friends\n",
        "nodes = [f\"Friend{i}\" for i in range(1, 11)]\n",
        "\n",
        "# 2) Friendships (edges) - 3 separate clusters\n",
        "edges_clusterA = [\n",
        "    (\"Friend1\", \"Friend2\"),\n",
        "    (\"Friend2\", \"Friend3\"),\n",
        "    (\"Friend3\", \"Friend4\"),\n",
        "    (\"Friend1\", \"Friend3\"),\n",
        "]\n",
        "edges_clusterB = [\n",
        "    (\"Friend5\", \"Friend6\"),\n",
        "    (\"Friend6\", \"Friend7\"),\n",
        "    (\"Friend5\", \"Friend7\"),\n",
        "]\n",
        "edges_clusterC = [\n",
        "    (\"Friend8\", \"Friend9\"),\n",
        "    (\"Friend9\", \"Friend10\"),\n",
        "    (\"Friend8\", \"Friend10\"),\n",
        "]\n",
        "\n",
        "edges = edges_clusterA + edges_clusterB + edges_clusterC\n",
        "\n",
        "# 3) Build graph\n",
        "G = nx.Graph()\n",
        "G.add_nodes_from(nodes)\n",
        "G.add_edges_from(edges)\n",
        "\n",
        "# 4) Assign colors per cluster\n",
        "color_map = []\n",
        "for node in G.nodes():\n",
        "    if node in [\"Friend1\", \"Friend2\", \"Friend3\", \"Friend4\"]:\n",
        "        color_map.append(\"red\")   # Cluster A\n",
        "    elif node in [\"Friend5\", \"Friend6\", \"Friend7\"]:\n",
        "        color_map.append(\"blue\")  # Cluster B\n",
        "    else:\n",
        "        color_map.append(\"green\") # Cluster C\n",
        "\n",
        "# 5) Draw graph with bigger size\n",
        "plt.figure(figsize=(10, 8))  # bigger figure\n",
        "pos = nx.spring_layout(G, seed=42, k=0.7)  # k controls spacing\n",
        "\n",
        "nx.draw_networkx_nodes(G, pos, node_color=color_map, node_size=1500, alpha=0.9)\n",
        "nx.draw_networkx_edges(G, pos, width=3, alpha=0.8, edge_color=\"black\")\n",
        "nx.draw_networkx_labels(G, pos, font_size=12, font_weight=\"bold\")\n",
        "\n",
        "plt.title(\"Friends Network with 3 Separate Clusters\", fontsize=16, fontweight=\"bold\")\n",
        "plt.axis(\"off\")\n",
        "plt.show()\n"
      ]
    },
    {
      "cell_type": "code",
      "execution_count": 17,
      "id": "zr0ivJs2bTFy",
      "metadata": {
        "id": "zr0ivJs2bTFy"
      },
      "outputs": [
        {
          "name": "stdout",
          "output_type": "stream",
          "text": [
            "Path from S to M : ['S', 'H', 'K', 'M']\n"
          ]
        }
      ],
      "source": [
        "#simple seacrch algorithm\n",
        "def bfs(graph, start, goal):\n",
        "    queue = [(start, [start])]  # Queue of tuples (node, path to node)\n",
        "    visited = set()             # Set of visited nodes\n",
        "\n",
        "    while queue:\n",
        "        (current_node, path) = queue.pop(0)  # Dequeue the first element\n",
        "        if current_node in visited:\n",
        "            continue\n",
        "        visited.add(current_node)\n",
        "\n",
        "        if current_node == goal:\n",
        "            return path  # Return the path if goal is found\n",
        "\n",
        "        for neighbor in graph[current_node]:\n",
        "            if neighbor not in visited:\n",
        "                queue.append((neighbor, path + [neighbor]))  # Enqueue neighbor with updated path\n",
        "\n",
        "    return None  # Return None if no path is found\n",
        "\n",
        "# Example graph\n",
        "graph = {\n",
        "    'S': ['E', 'H', 'I'],\n",
        "    'A': ['B', 'D'],\n",
        "    'B': ['A', 'E', 'C'],\n",
        "    'C': ['B', 'F'],\n",
        "    'D': ['A', 'E'],\n",
        "    'E': ['B', 'D', 'F'],\n",
        "    'F': ['J', 'I', 'E'],\n",
        "    'G': ['D', 'H', 'N'],\n",
        "    'H': ['S', 'K', 'G'],\n",
        "    'I': ['S', 'K', 'L', 'F'],\n",
        "    'J': ['F', 'L'],\n",
        "    'K': ['I', 'H', 'M', 'N'],\n",
        "    'L': ['I', 'J', 'M'],\n",
        "    'M': ['L', 'K'],\n",
        "    'N': ['K', 'G']\n",
        "}\n",
        "\n",
        "# Test the BFS function\n",
        "start_node = 'S'\n",
        "goal_node = 'M'\n",
        "path = bfs(graph, start_node, goal_node)\n",
        "print(\"Path from\", start_node, \"to\", goal_node, \":\", path)\n"
      ]
    },
    {
      "cell_type": "code",
      "execution_count": null,
      "id": "d6e21bd3",
      "metadata": {},
      "outputs": [],
      "source": []
    },
    {
      "cell_type": "code",
      "execution_count": null,
      "id": "2e59ec1d",
      "metadata": {},
      "outputs": [],
      "source": []
    },
    {
      "cell_type": "code",
      "execution_count": null,
      "id": "47d71cde",
      "metadata": {},
      "outputs": [],
      "source": [
        "\n"
      ]
    }
  ],
  "metadata": {
    "colab": {
      "provenance": []
    },
    "kernelspec": {
      "display_name": "Python 3",
      "language": "python",
      "name": "python3"
    },
    "language_info": {
      "codemirror_mode": {
        "name": "ipython",
        "version": 3
      },
      "file_extension": ".py",
      "mimetype": "text/x-python",
      "name": "python",
      "nbconvert_exporter": "python",
      "pygments_lexer": "ipython3",
      "version": "3.11.3"
    }
  },
  "nbformat": 4,
  "nbformat_minor": 5
}
