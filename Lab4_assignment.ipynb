{
 "cells": [
  {
   "cell_type": "code",
   "execution_count": 1,
   "id": "904b542c",
   "metadata": {},
   "outputs": [
    {
     "name": "stdout",
     "output_type": "stream",
     "text": [
      "DFS Path from Arad to Bucharest: ['Arad', 'Sibiu', 'Fagaras', 'Bucharest']\n"
     ]
    }
   ],
   "source": [
    "# Lab Task 1: DFS from Arad to Bucharest\n",
    "\n",
    "graph = {\n",
    "    'Arad': ['Sibiu', 'Timisoara', 'Zerind'],\n",
    "    'Zerind': ['Arad', 'Oradea'],\n",
    "    'Oradea': ['Zerind', 'Sibiu'],\n",
    "    'Sibiu': ['Arad', 'Oradea', 'Fagaras', 'Rimnicu Vilcea'],\n",
    "    'Timisoara': ['Arad', 'Lugoj'],\n",
    "    'Lugoj': ['Timisoara', 'Mehadia'],\n",
    "    'Mehadia': ['Lugoj', 'Drobeta'],\n",
    "    'Drobeta': ['Mehadia', 'Craiova'],\n",
    "    'Craiova': ['Drobeta', 'Rimnicu Vilcea', 'Pitesti'],\n",
    "    'Rimnicu Vilcea': ['Sibiu', 'Craiova', 'Pitesti'],\n",
    "    'Fagaras': ['Sibiu', 'Bucharest'],\n",
    "    'Pitesti': ['Rimnicu Vilcea', 'Craiova', 'Bucharest'],\n",
    "    'Bucharest': ['Fagaras', 'Pitesti', 'Giurgiu', 'Urziceni'],\n",
    "    'Giurgiu': ['Bucharest'],\n",
    "    'Urziceni': ['Bucharest', 'Hirsova', 'Vaslui'],\n",
    "    'Hirsova': ['Urziceni', 'Eforie'],\n",
    "    'Eforie': ['Hirsova'],\n",
    "    'Vaslui': ['Urziceni', 'Iasi'],\n",
    "    'Iasi': ['Vaslui', 'Neamt'],\n",
    "    'Neamt': ['Iasi']\n",
    "}\n",
    "\n",
    "def dfs_path(graph, start, goal, path=None, visited=None):\n",
    "    if path is None:\n",
    "        path = []\n",
    "    if visited is None:\n",
    "        visited = set()\n",
    "\n",
    "    path.append(start)\n",
    "    visited.add(start)\n",
    "\n",
    "    if start == goal:\n",
    "        return path\n",
    "\n",
    "    for neighbor in graph[start]:\n",
    "        if neighbor not in visited:\n",
    "            new_path = dfs_path(graph, neighbor, goal, path.copy(), visited.copy())\n",
    "            if new_path:\n",
    "                return new_path\n",
    "    return None\n",
    "\n",
    "path = dfs_path(graph, 'Arad', 'Bucharest')\n",
    "print(\"DFS Path from Arad to Bucharest:\", path)\n"
   ]
  },
  {
   "cell_type": "code",
   "execution_count": 2,
   "id": "cde0776f",
   "metadata": {},
   "outputs": [
    {
     "name": "stdout",
     "output_type": "stream",
     "text": [
      "Valid words found on Boggle Board: ['NOTE', 'STONED', 'SAND']\n"
     ]
    }
   ],
   "source": [
    "\n",
    "# Lab Task 2: Boggle Word Search\n",
    "\n",
    "# Boggle board (4x4)\n",
    "board = [\n",
    "    ['M', 'S', 'E', 'F'],\n",
    "    ['R', 'A', 'T', 'D'],\n",
    "    ['L', 'O', 'N', 'E'],\n",
    "    ['K', 'A', 'F', 'B']\n",
    "]\n",
    "\n",
    "dictionary = {\"START\", \"NOTE\", \"SAND\", \"STONED\"}\n",
    "\n",
    "# Directions (8 possible moves)\n",
    "directions = [(-1,-1), (-1,0), (-1,1),\n",
    "              (0,-1),         (0,1),\n",
    "              (1,-1), (1,0), (1,1)]\n",
    "\n",
    "def is_valid(x, y, visited, rows, cols):\n",
    "    return 0 <= x < rows and 0 <= y < cols and (x, y) not in visited\n",
    "\n",
    "def dfs(board, word, index, x, y, visited):\n",
    "    if index == len(word):\n",
    "        return True\n",
    "    rows, cols = len(board), len(board[0])\n",
    "    if not is_valid(x, y, visited, rows, cols) or board[x][y] != word[index]:\n",
    "        return False\n",
    "\n",
    "    visited.add((x, y))\n",
    "    for dx, dy in directions:\n",
    "        if dfs(board, word, index + 1, x + dx, y + dy, visited):\n",
    "            return True\n",
    "    visited.remove((x, y))\n",
    "    return False\n",
    "\n",
    "def word_in_board(board, word):\n",
    "    rows, cols = len(board), len(board[0])\n",
    "    for i in range(rows):\n",
    "        for j in range(cols):\n",
    "            if board[i][j] == word[0]:\n",
    "                if dfs(board, word, 0, i, j, set()):\n",
    "                    return True\n",
    "    return False\n",
    "\n",
    "# Find valid words\n",
    "valid_words = [word for word in dictionary if word_in_board(board, word)]\n",
    "print(\"Valid words found on Boggle Board:\", valid_words)\n"
   ]
  }
 ],
 "metadata": {
  "kernelspec": {
   "display_name": "Python 3",
   "language": "python",
   "name": "python3"
  },
  "language_info": {
   "codemirror_mode": {
    "name": "ipython",
    "version": 3
   },
   "file_extension": ".py",
   "mimetype": "text/x-python",
   "name": "python",
   "nbconvert_exporter": "python",
   "pygments_lexer": "ipython3",
   "version": "3.11.3"
  }
 },
 "nbformat": 4,
 "nbformat_minor": 5
}
